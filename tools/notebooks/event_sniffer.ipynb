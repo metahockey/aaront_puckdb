{
 "cells": [
  {
   "cell_type": "code",
   "execution_count": null,
   "metadata": {
    "collapsed": true
   },
   "outputs": [],
   "source": [
    "from collections import OrderedDict\n",
    "from datetime import datetime, timedelta\n",
    "from puckdb import filters, scrapers"
   ]
  },
  {
   "cell_type": "code",
   "execution_count": null,
   "metadata": {
    "collapsed": true
   },
   "outputs": [],
   "source": [
    "TO_DATE = datetime.utcnow()\n",
    "FROM_DATE = TO_DATE - timedelta(days=30)"
   ]
  },
  {
   "cell_type": "code",
   "execution_count": null,
   "metadata": {
    "collapsed": false
   },
   "outputs": [],
   "source": [
    "game_filter = filters.GameFilter(from_date=FROM_DATE, to_date=TO_DATE)\n",
    "games = scrapers.GameScraper(game_filter).get()"
   ]
  },
  {
   "cell_type": "code",
   "execution_count": null,
   "metadata": {
    "collapsed": true
   },
   "outputs": [],
   "source": [
    "def get_all_plays():\n",
    "    for game in games:\n",
    "        for play in game['liveData']['plays']['allPlays']:\n",
    "            yield play"
   ]
  },
  {
   "cell_type": "code",
   "execution_count": null,
   "metadata": {
    "collapsed": false
   },
   "outputs": [],
   "source": [
    "def get_all_players():\n",
    "    for game in games:\n",
    "        for id, player in game['gameData']['players'].items():\n",
    "            yield player"
   ]
  },
  {
   "cell_type": "code",
   "execution_count": null,
   "metadata": {
    "collapsed": false
   },
   "outputs": [],
   "source": [
    "keys = dict()\n",
    "for player in get_all_players():\n",
    "    pp = player['primaryPosition']\n",
    "    keys[pp['code']] = pp\n",
    "keys"
   ]
  },
  {
   "cell_type": "code",
   "execution_count": null,
   "metadata": {
    "collapsed": false
   },
   "outputs": [],
   "source": [
    "keys = dict()\n",
    "for play in get_all_plays():\n",
    "    for info, val in play.items():\n",
    "        if isinstance(val, dict):\n",
    "            if info not in keys:\n",
    "                keys[info] = dict()\n",
    "            for subkey, subval in val.items():\n",
    "                keys[info][subkey] = subval\n",
    "        if isinstance(val, list):\n",
    "            if info not in keys:\n",
    "                keys[info] = list()\n",
    "keys"
   ]
  },
  {
   "cell_type": "code",
   "execution_count": null,
   "metadata": {
    "collapsed": false
   },
   "outputs": [],
   "source": [
    "event_types = set()\n",
    "for play in get_all_plays():\n",
    "    event_types.add(play['result']['eventTypeId'])\n",
    "event_types"
   ]
  },
  {
   "cell_type": "code",
   "execution_count": null,
   "metadata": {
    "collapsed": false
   },
   "outputs": [],
   "source": [
    "secondary = set()\n",
    "for play in get_all_plays():\n",
    "    if 'secondaryType' in play['result'] and play['result']['eventTypeId'] == 'GOAL':\n",
    "        secondary.add(play['result']['secondaryType'])\n",
    "secondary"
   ]
  },
  {
   "cell_type": "code",
   "execution_count": null,
   "metadata": {
    "collapsed": true
   },
   "outputs": [],
   "source": []
  }
 ],
 "metadata": {
  "kernelspec": {
   "display_name": "Python 3",
   "language": "python",
   "name": "python3"
  },
  "language_info": {
   "codemirror_mode": {
    "name": "ipython",
    "version": 3
   },
   "file_extension": ".py",
   "mimetype": "text/x-python",
   "name": "python",
   "nbconvert_exporter": "python",
   "pygments_lexer": "ipython3",
   "version": "3.5.1"
  }
 },
 "nbformat": 4,
 "nbformat_minor": 0
}
